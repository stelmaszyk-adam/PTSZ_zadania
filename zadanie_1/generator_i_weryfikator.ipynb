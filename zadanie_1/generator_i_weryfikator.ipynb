{
 "cells": [
  {
   "cell_type": "code",
   "execution_count": 13,
   "metadata": {},
   "outputs": [],
   "source": [
    "# p - czas trwania\n",
    "# r - moment gotowości\n",
    "# d - oczekiwany termin zakończenia\n",
    "# Cj oznacza moment zakończenia wykonywania zadania Jj w uszeregowaniu\n",
    "\n",
    "# rj < Cj - pj\n",
    "\n",
    "# w - waga\n",
    "\n",
    "import numpy as np\n",
    "\n",
    "n = [50, 100, 150, 200, 250, 300, 350, 400, 450, 500]\n",
    "# n = [50, 100, 150]"
   ]
  },
  {
   "cell_type": "markdown",
   "metadata": {},
   "source": [
    "# Generator"
   ]
  },
  {
   "cell_type": "code",
   "execution_count": 14,
   "metadata": {},
   "outputs": [],
   "source": [
    "for i in n:\n",
    "    taskList = []\n",
    "    taskList.append(i)\n",
    "    for number in range(i):\n",
    "        p = np.random.randint(2,20)\n",
    "        d = np.random.randint(p+2, p+20)\n",
    "        r = np.random.randint(0, d-p)\n",
    "        w = np.random.randint(30,50)\n",
    "        taskList.append([p,r,d,w])\n",
    "    with open(f'data/out136315_{i}.csv', \"w\") as file:\n",
    "        file.write(f\"{str(taskList[0])}\\n\")\n",
    "        for task in taskList[1:]:            \n",
    "            file.write(f\"{' '.join([str(i) for i in task])}\\n\")"
   ]
  },
  {
   "cell_type": "markdown",
   "metadata": {},
   "source": [
    "# Weryfikator"
   ]
  },
  {
   "cell_type": "code",
   "execution_count": 15,
   "metadata": {},
   "outputs": [
    {
     "name": "stdout",
     "output_type": "stream",
     "text": [
      "Niepoprawne wygenerowane dane. Odczytane: 0, Policzona: 1\n",
      "Niepoprawne wygenerowane dane. Odczytane: 0, Policzona: 1\n",
      "Niepoprawne wygenerowane dane. Odczytane: 0, Policzona: 7\n",
      "Niepoprawne wygenerowane dane. Odczytane: 0, Policzona: 8\n",
      "Niepoprawne wygenerowane dane. Odczytane: 0, Policzona: 6\n",
      "Niepoprawne wygenerowane dane. Odczytane: 0, Policzona: 1\n",
      "Niepoprawne wygenerowane dane. Odczytane: 0, Policzona: 5\n",
      "Niepoprawne wygenerowane dane. Odczytane: 0, Policzona: 6\n",
      "Niepoprawne wygenerowane dane. Odczytane: 0, Policzona: 2\n",
      "Niepoprawne wygenerowane dane. Odczytane: 0, Policzona: 2\n"
     ]
    }
   ],
   "source": [
    "for i in n:\n",
    "    taskList = {}\n",
    "    with open(f'data/test/132231/out132231_{i}.csv', \"r\") as file:\n",
    "        lines = file.read().split('\\n')\n",
    "        w = int(lines[0])\n",
    "        taskR = [int(t) for t in lines[1:-1]]\n",
    "        \n",
    "    with open(f'data/test/132231/in132231_{i}.csv', \"r\") as file:\n",
    "        line = file.read().split('\\n')\n",
    "        w = int(line[0])\n",
    "        for index,internalLine in enumerate(line[1:-1]):\n",
    "            if internalLine == '':\n",
    "                continue\n",
    "            p,r,d,w = internalLine.split(' ')\n",
    "            p,r,d,w = int(p), int(r), int(d), int(w)\n",
    "            taskList[index] = {\"p\": p, \"r\": r, \"d\": d, \"w\": w, \"c\": 0 }\n",
    "    calW = 0\n",
    "    t = 0\n",
    "    for tR in taskR:\n",
    "        if t < taskList[tR]['r']:\n",
    "            t = taskList[tR]['r']\n",
    "        t += taskList[tR]['p']\n",
    "        helpVariable = t\n",
    "        taskList[tR]['c'] = helpVariable\n",
    "        \n",
    "        if not taskList[tR]['r'] <= taskList[tR]['c'] - taskList[tR]['p']:\n",
    "            print(\"Błąd\")\n",
    "        \n",
    "        if(taskList[tR]['c'] > taskList[tR]['d']):\n",
    "            calW += taskList[tR]['w']\n",
    "    \n",
    "    if(calW != w):\n",
    "        print(f\"Niepoprawne wygenerowane dane. Odczytane: {calW}, Policzona: {w}\")\n",
    "    else:\n",
    "        print(f\"Poprawne: {calW}\")\n",
    "     \n",
    "            "
   ]
  }
 ],
 "metadata": {
  "kernelspec": {
   "display_name": "Python 3",
   "language": "python",
   "name": "python3"
  },
  "language_info": {
   "codemirror_mode": {
    "name": "ipython",
    "version": 3
   },
   "file_extension": ".py",
   "mimetype": "text/x-python",
   "name": "python",
   "nbconvert_exporter": "python",
   "pygments_lexer": "ipython3",
   "version": "3.8.2"
  }
 },
 "nbformat": 4,
 "nbformat_minor": 4
}
